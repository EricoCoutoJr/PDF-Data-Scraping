{
  "nbformat": 4,
  "nbformat_minor": 0,
  "metadata": {
    "colab": {
      "name": "Data-Scraping in PDF file",
      "provenance": [],
      "collapsed_sections": [],
      "include_colab_link": true
    },
    "kernelspec": {
      "name": "python3",
      "display_name": "Python 3"
    }
  },
  "cells": [
    {
      "cell_type": "markdown",
      "metadata": {
        "id": "view-in-github",
        "colab_type": "text"
      },
      "source": [
        "<a href=\"https://colab.research.google.com/github/EricoCoutoJr/PDF-Data-Scraping/blob/master/Data_Scraping_in_PDF_file.ipynb\" target=\"_parent\"><img src=\"https://colab.research.google.com/assets/colab-badge.svg\" alt=\"Open In Colab\"/></a>"
      ]
    },
    {
      "cell_type": "markdown",
      "metadata": {
        "id": "ZiW5N3JAtjIz",
        "colab_type": "text"
      },
      "source": [
        "\n",
        "\n",
        "# ***Data-Scraping in PDF File***\n",
        "*by [Erico Couto Jr.](https://www.linkedin.com/in/ericocoutojr/)*\n",
        "\n",
        "---\n",
        "\n",
        "## Usando a Biblioteca PDF Plumber\n",
        "\n",
        "Por mais simples que possa parecer é raro entrarmos os dados devidamente formatados para nosso uso. Também não é raro recebermos estes dados em formulários em formato PDF.\n",
        "\n",
        "\n",
        "<center><img width=\"50%\" src=\"https://image.freepik.com/fotos-gratis/conta-de-pagamento-de-leitura-de-mulher_53876-41455.jpg\"></center>\n",
        "\n",
        "Com a biblioteca de Python [PDF Plumber](https://github.com/jsvine/pdfplumber) podemos processar o conteúdo de arquivos no fromato PDF.\n",
        "\n",
        "Neste caso usarei o problema descrito por um colega. É recorrente em seu trabalho ter que fazer a leitura de faturas das contas de energia elétrica para calcular a demanda média e dar entrada em uma planilha de cáculo para dimensionamento do sistema fotovoltaico. Para tal ferei uso da biblioteca descrita acima. E usarei como documento modelo uma conta de luz da concessionária local (CELESC).\n",
        "\n",
        "---\n",
        "Inicialmente, vamos efetuar a instalação do pacotes `pdfplumber`, fazendo o uso do gerenciador de pacotes `pip`"
      ]
    },
    {
      "cell_type": "code",
      "metadata": {
        "id": "F4_oeGhjt4y8",
        "colab_type": "code",
        "colab": {
          "base_uri": "https://localhost:8080/",
          "height": 154
        },
        "outputId": "1e6a8042-3b05-4756-dcd5-fec548752e49"
      },
      "source": [
        "# instalando a biblioteca\n",
        "!pip install pdfplumber"
      ],
      "execution_count": 67,
      "outputs": [
        {
          "output_type": "stream",
          "text": [
            "Requirement already satisfied: pdfplumber in /usr/local/lib/python3.6/dist-packages (0.5.23)\n",
            "Requirement already satisfied: Wand in /usr/local/lib/python3.6/dist-packages (from pdfplumber) (0.6.2)\n",
            "Requirement already satisfied: Pillow>=7.0.0 in /usr/local/lib/python3.6/dist-packages (from pdfplumber) (7.0.0)\n",
            "Requirement already satisfied: pdfminer.six==20200517 in /usr/local/lib/python3.6/dist-packages (from pdfplumber) (20200517)\n",
            "Requirement already satisfied: chardet; python_version > \"3.0\" in /usr/local/lib/python3.6/dist-packages (from pdfminer.six==20200517->pdfplumber) (3.0.4)\n",
            "Requirement already satisfied: pycryptodome in /usr/local/lib/python3.6/dist-packages (from pdfminer.six==20200517->pdfplumber) (3.9.8)\n",
            "Requirement already satisfied: sortedcontainers in /usr/local/lib/python3.6/dist-packages (from pdfminer.six==20200517->pdfplumber) (2.2.2)\n"
          ],
          "name": "stdout"
        }
      ]
    },
    {
      "cell_type": "markdown",
      "metadata": {
        "id": "7x-0TWdK2JYb",
        "colab_type": "text"
      },
      "source": [
        "Agora que a biblioteca foi instalada, basta fazer a importação, e usar.\n",
        "\n",
        "Para este script, precisaremos importar também a biblioteca `os` para manipular os arquivos, e o `drive` para montar e acessar nosso Google Drive. Para este exemplo os arquivos utilizados estarão diponíveis no GitHub e você deverá trasferí-los para as pastas do seu Google Drive `/content/gdrive/My Drive/relatorios/`. Eles poderiam ficar disponíveis e serem acessados no GitHub mas resolvi utilizar o compartilhamento pelo Drive."
      ]
    },
    {
      "cell_type": "code",
      "metadata": {
        "id": "DewqL6GNtUqa",
        "colab_type": "code",
        "colab": {}
      },
      "source": [
        "# importando os pacotes usados neste trabalho\n",
        "import pdfplumber\n",
        "import os\n",
        "from google.colab import drive"
      ],
      "execution_count": null,
      "outputs": []
    },
    {
      "cell_type": "markdown",
      "metadata": {
        "id": "qlKWfvfa2Ytr",
        "colab_type": "text"
      },
      "source": [
        "Pronto! Agora é só montar nosso drive e buscar os arquivos."
      ]
    },
    {
      "cell_type": "code",
      "metadata": {
        "id": "SSvr3THEuDSW",
        "colab_type": "code",
        "colab": {
          "base_uri": "https://localhost:8080/",
          "height": 121
        },
        "outputId": "38f681f8-8320-4324-c41f-389fcfd3f68c"
      },
      "source": [
        "# montando o drive\n",
        "drive.mount('/content/gdrive')"
      ],
      "execution_count": null,
      "outputs": [
        {
          "output_type": "stream",
          "text": [
            "Go to this URL in a browser: https://accounts.google.com/o/oauth2/auth?client_id=947318989803-6bn6qk8qdgf4n4g3pfee6491hc0brc4i.apps.googleusercontent.com&redirect_uri=urn%3aietf%3awg%3aoauth%3a2.0%3aoob&scope=email%20https%3a%2f%2fwww.googleapis.com%2fauth%2fdocs.test%20https%3a%2f%2fwww.googleapis.com%2fauth%2fdrive%20https%3a%2f%2fwww.googleapis.com%2fauth%2fdrive.photos.readonly%20https%3a%2f%2fwww.googleapis.com%2fauth%2fpeopleapi.readonly&response_type=code\n",
            "\n",
            "Enter your authorization code:\n",
            "··········\n",
            "Mounted at /content/gdrive\n"
          ],
          "name": "stdout"
        }
      ]
    },
    {
      "cell_type": "markdown",
      "metadata": {
        "id": "hUIKa2iH2fvd",
        "colab_type": "text"
      },
      "source": [
        "Verificando o conteúdo do nosso drive, podemos ver que o arquivo modelo `20200527.pdf` está lá, pronto para ser usado.\n",
        "\n",
        "Vamos carregá-lo e ver como essa biblioteca funciona na prática."
      ]
    },
    {
      "cell_type": "code",
      "metadata": {
        "id": "004L1AYOuSgT",
        "colab_type": "code",
        "colab": {
          "base_uri": "https://localhost:8080/",
          "height": 34
        },
        "outputId": "8836bda4-5cd7-4e00-8604-9d529734b31a"
      },
      "source": [
        "# verificando o conteúdo do drive\n",
        "!ls '/content/gdrive/My Drive/relatorios/'"
      ],
      "execution_count": null,
      "outputs": [
        {
          "output_type": "stream",
          "text": [
            "20200527.pdf  20200627.pdf  20200727.pdf  20200827.pdf\n"
          ],
          "name": "stdout"
        }
      ]
    },
    {
      "cell_type": "markdown",
      "metadata": {
        "id": "7IO7R0kl3Gva",
        "colab_type": "text"
      },
      "source": [
        "### pdfplumber.open()\n",
        "\n",
        "Para abrir um arquivo, vamos associá-lo a uma variável, para que ele possa ser facilmente acessado depois. Neste caso iremos associar ao objeto (variável) `dpf`.\n",
        "\n",
        "Utilizamos o comando `pdfplumber.open('caminho/do/meu/arquivo')` com o caminho e nome do arquivo dentro dos parênteses, dentro de aspas, simples ou duplas."
      ]
    },
    {
      "cell_type": "code",
      "metadata": {
        "id": "hdp90dsGucY6",
        "colab_type": "code",
        "colab": {}
      },
      "source": [
        "# abrindo o documento 20200527.pdf\n",
        "# podemos fazer uso de um input externo, mas para exemplificar estou usando diretamente na linha\n",
        "# exemplo:\n",
        "# arquivo = input('Defina a conta a ser lida: ')\n",
        "# pdf = pdfplumber.open('/content/gdrive/My Drive/relatorios/' + arquivo)\n",
        "\n",
        "pdf = pdfplumber.open('/content/gdrive/My Drive/relatorios/20200827.pdf')"
      ],
      "execution_count": null,
      "outputs": []
    },
    {
      "cell_type": "markdown",
      "metadata": {
        "id": "XFKTVq6l4Fc5",
        "colab_type": "text"
      },
      "source": [
        "### Atributo pages\n",
        "Para acessar as páginas existentes do objeto `pdf`, utilizamos o atributo `pages`.\n",
        "\n",
        "Ela retorna uma lista com as páginas do arquivo. No caso deste projeto, teremos apenas uma pagina pois ele se refere a uma fatura de luz."
      ]
    },
    {
      "cell_type": "code",
      "metadata": {
        "id": "gqZKbdiqusij",
        "colab_type": "code",
        "colab": {
          "base_uri": "https://localhost:8080/",
          "height": 34
        },
        "outputId": "82d30121-98d3-4dbb-fa8c-63019e7ff7a3"
      },
      "source": [
        "# ver o número de páginas do pdf:\n",
        "pdf.pages"
      ],
      "execution_count": null,
      "outputs": [
        {
          "output_type": "execute_result",
          "data": {
            "text/plain": [
              "[<Page:1>]"
            ]
          },
          "metadata": {
            "tags": []
          },
          "execution_count": 57
        }
      ]
    },
    {
      "cell_type": "markdown",
      "metadata": {
        "id": "djmfxiee4R72",
        "colab_type": "text"
      },
      "source": [
        "Ao fazer qualquer manipulação, precisamos sempre identificar a página em que isso está acontecendo, mesmo que o documento possua apenas uma página.\n",
        "\n",
        "Para isso, utilizaremos a função `pages`, passando como argumento o número da página que desejamos manipular, lembrando sempre que começamos a contar a partir do 0. Afinal `pdf.pages` é uma lista de paginas."
      ]
    },
    {
      "cell_type": "code",
      "metadata": {
        "id": "5XJYSrMNuw5r",
        "colab_type": "code",
        "colab": {
          "base_uri": "https://localhost:8080/",
          "height": 34
        },
        "outputId": "7a60865d-4a15-4e11-d57f-22b7933267bc"
      },
      "source": [
        "# selecionando uma página, neste caso a primeira e única \n",
        "# página contida no objeto `pdf`.\n",
        "# neste momento iremos atribuir a variável `page` o conteúdo\n",
        "# da primeira página do documento atribuido a variável `pdf`.\n",
        "page = pdf.pages[0]\n",
        "page\n",
        "type(page)"
      ],
      "execution_count": 68,
      "outputs": [
        {
          "output_type": "execute_result",
          "data": {
            "text/plain": [
              "pdfplumber.page.Page"
            ]
          },
          "metadata": {
            "tags": []
          },
          "execution_count": 68
        }
      ]
    },
    {
      "cell_type": "markdown",
      "metadata": {
        "id": "RABL6kKm45HV",
        "colab_type": "text"
      },
      "source": [
        "### Atributo metadata\n",
        "Metadados, de forma simples, são dados sobre outros dados. No nosso caso, são dados sobre o nosso arquivo, como o autor, data de criação, palavras chaves, título, etc.\n",
        "\n",
        "É possível extrair esses dados sobre nossos arquivos com facilidade usando a função `metadata` do pdfplumber.\n",
        "\n",
        "Neste caso os `metadados` ou `metadata` contem apenas data e hora de criação do arquivo e origem ('Producer')."
      ]
    },
    {
      "cell_type": "code",
      "metadata": {
        "id": "ItMVvZ6ovhfZ",
        "colab_type": "code",
        "colab": {
          "base_uri": "https://localhost:8080/",
          "height": 34
        },
        "outputId": "c9962d5a-dd85-4a03-9dc3-c481cf7fa0bc"
      },
      "source": [
        "# coletando os metadados do arquivo\n",
        "pdf.metadata"
      ],
      "execution_count": null,
      "outputs": [
        {
          "output_type": "execute_result",
          "data": {
            "text/plain": [
              "{'CreationDate': 'D:20200903165910', 'Producer': 'www.plpdf.com 2.3.1'}"
            ]
          },
          "metadata": {
            "tags": []
          },
          "execution_count": 59
        }
      ]
    },
    {
      "cell_type": "markdown",
      "metadata": {
        "id": "oNOiwASS509V",
        "colab_type": "text"
      },
      "source": [
        "### Função extract_text()\n",
        "\n",
        "No fim das contas, estamos interessados mesmo é no conteúdo do nosso arquivo, e isso também pode ser facilmente extraído utilizando o pdfplumber, através da função `extract_text()` que funciona no nível da página.\n",
        "\n",
        "Aqui, precisamos ter extraído a página que iremos trabalhar, e vamos associar a uma variável o resultado da execução da função `extract_text()` sobre a página. Depois, é só imprimir."
      ]
    },
    {
      "cell_type": "code",
      "metadata": {
        "id": "qPbRqtZ7u7R5",
        "colab_type": "code",
        "colab": {
          "base_uri": "https://localhost:8080/",
          "height": 50
        },
        "outputId": "b103d569-953f-41e8-cb1a-616d0d7aeefc"
      },
      "source": [
        "# extraindo o texto da página selecionada anteriormente (ver célula Atributo pages())\n",
        "# perceba que há quebra de linha com '\\n\"\n",
        "text = page.extract_text()\n",
        "lista = text.split(\"\\n\")\n",
        "\n",
        "# nesta linha abaixo procuramos e localizamos a linha que contém os dados\n",
        "# lembramos que esta posição pode variar em função de linhas extras produzidas\n",
        "# pelas concessionária. E sabendo que uma das linhas procuradas sempre vai conter \"Dez/\"\n",
        "# e a linha seguinte é a seguinte ficou fácil.\n",
        "for l in lista:\n",
        "  if \"Dez/\" in l:\n",
        "    print(l)\n",
        "    pos = lista.index(l)\n",
        "    print(pos)"
      ],
      "execution_count": 69,
      "outputs": [
        {
          "output_type": "stream",
          "text": [
            "Ago/2019 Set/2019 Out/2019 Nov/2019 Dez/2019 Jan/2020 Fev/2020 Mar/2020 Abr/2020 Mai/2020 Jun/2020 Jul/2020\n",
            "32\n"
          ],
          "name": "stdout"
        }
      ]
    },
    {
      "cell_type": "markdown",
      "metadata": {
        "id": "NJ0GOYXaBFEr",
        "colab_type": "text"
      },
      "source": [
        "Na célula abaixo criarei uma lista de linhas criada apartir da quebra do texto corrido contido na variável `text` do tipo `str`. E em seguida foi feita a identificação da linha que continhão os dados a serem lidos.\n",
        "Como os documentos lidos são padronizados está celula só foi criada para determinar quais eram as posições na lista de linhas da `lista_text`."
      ]
    },
    {
      "cell_type": "code",
      "metadata": {
        "id": "oSxpc0wLxXP1",
        "colab_type": "code",
        "colab": {
          "base_uri": "https://localhost:8080/",
          "height": 50
        },
        "outputId": "99162c7d-1ccf-4178-82fa-7f8c8924caab"
      },
      "source": [
        "# Pra eu não ter que contar as linhas que terei que colher os dados, uso o index para localizar as linhas.\n",
        "# estou fazendo uso da função split('\\n') para quebrar o texto corrido em linhas criando uma lista\n",
        "\n",
        "# em seguida localizarei as linhas que contém as informações necessárias.\n",
        "\n",
        "print(\"Na linha {}, do documento lido, estão localizados os meses que foram feitas as leituras descritas na linha seguinte\".\n",
        "      format(pos))\n",
        "\n",
        "print(\"Na linha {}, do documento lido, estão localizados os valores consumidos em Kwh\".\n",
        "      format(pos+1))\n",
        "\n",
        "# como este documento é pradronizado as linhas a serem lidas sempre estarão juntas ou seguidas uma da outra."
      ],
      "execution_count": null,
      "outputs": [
        {
          "output_type": "stream",
          "text": [
            "Na linha 32, do documento lido, estão localizados os meses que foram feitas as leituras descritas na linha seguinte\n",
            "Na linha 33, do documento lido, estão localizados os valores consumidos em Kwh\n"
          ],
          "name": "stdout"
        }
      ]
    },
    {
      "cell_type": "code",
      "metadata": {
        "id": "R9r5pdRl5ROK",
        "colab_type": "code",
        "colab": {
          "base_uri": "https://localhost:8080/",
          "height": 50
        },
        "outputId": "26fc33c2-395e-417b-ce68-51f3e50781c2"
      },
      "source": [
        "# Foram criadas dias listas, a primeira com os meses de leitura\n",
        "# a segunda com os respectivos valores lidos\n",
        "# a função split() foi usada para separar os itens contidos nas \n",
        "# strings lista_text contida nas linhas 32 e 33 do documento extraido do PDF.\n",
        "meses_lidos = lista[pos].split()    \n",
        "consumo_lido = lista[pos+1].split()\n",
        "print(meses_lidos)\n",
        "print(consumo_lido)\n"
      ],
      "execution_count": null,
      "outputs": [
        {
          "output_type": "stream",
          "text": [
            "['Ago/2019', 'Set/2019', 'Out/2019', 'Nov/2019', 'Dez/2019', 'Jan/2020', 'Fev/2020', 'Mar/2020', 'Abr/2020', 'Mai/2020', 'Jun/2020', 'Jul/2020']\n",
            "['100', '145', '245', '200', '244', '468', '362', '181', '339', '233', '124', '175']\n"
          ],
          "name": "stdout"
        }
      ]
    },
    {
      "cell_type": "markdown",
      "metadata": {
        "id": "quGv9Rc7MddN",
        "colab_type": "text"
      },
      "source": [
        "### Gravando o resultado da Leitura do PDF\n",
        "Na célula abaixo, está sendo criado uma arquivo contendo os dados lidos na conta de luz"
      ]
    },
    {
      "cell_type": "code",
      "metadata": {
        "id": "TxwvzNMAuQZd",
        "colab_type": "code",
        "colab": {
          "base_uri": "https://localhost:8080/",
          "height": 218
        },
        "outputId": "0ea86e5a-e2ca-4c1d-b36d-892f00f33329"
      },
      "source": [
        "with open('/content/gdrive/My Drive/relatorios/leitura_12_meses.txt', 'a') as txt:\n",
        "  for i in range(len(meses_lidos)):\n",
        "    print(meses_lidos[i], consumo_lido[i])\n",
        "    txt.write(meses_lidos[i] + ',' + consumo_lido[i] + \"\\n\")"
      ],
      "execution_count": null,
      "outputs": [
        {
          "output_type": "stream",
          "text": [
            "Ago/2019 100\n",
            "Set/2019 145\n",
            "Out/2019 245\n",
            "Nov/2019 200\n",
            "Dez/2019 244\n",
            "Jan/2020 468\n",
            "Fev/2020 362\n",
            "Mar/2020 181\n",
            "Abr/2020 339\n",
            "Mai/2020 233\n",
            "Jun/2020 124\n",
            "Jul/2020 175\n"
          ],
          "name": "stdout"
        }
      ]
    },
    {
      "cell_type": "markdown",
      "metadata": {
        "id": "nTeKkaVUNae2",
        "colab_type": "text"
      },
      "source": [
        "A seguir iramos apenas confirmar a criação do arquivo `.txt` e seu conteúdo."
      ]
    },
    {
      "cell_type": "code",
      "metadata": {
        "id": "n-Z1WGejE0qv",
        "colab_type": "code",
        "colab": {
          "base_uri": "https://localhost:8080/",
          "height": 235
        },
        "outputId": "03e38170-6696-4861-c932-3be7894e1538"
      },
      "source": [
        "with open('/content/gdrive/My Drive/relatorios/leitura_12_meses.txt', 'r') as txt:\n",
        "  print(txt.read())"
      ],
      "execution_count": null,
      "outputs": [
        {
          "output_type": "stream",
          "text": [
            "Ago/2019,100\n",
            "Set/2019,145\n",
            "Out/2019,245\n",
            "Nov/2019,200\n",
            "Dez/2019,244\n",
            "Jan/2020,468\n",
            "Fev/2020,362\n",
            "Mar/2020,181\n",
            "Abr/2020,339\n",
            "Mai/2020,233\n",
            "Jun/2020,124\n",
            "Jul/2020,175\n",
            "\n"
          ],
          "name": "stdout"
        }
      ]
    },
    {
      "cell_type": "markdown",
      "metadata": {
        "id": "z-2b6_J0PZCy",
        "colab_type": "text"
      },
      "source": [
        "***Espero ter ajudado com este conteúdo.***"
      ]
    },
    {
      "cell_type": "code",
      "metadata": {
        "id": "cKcYm45fNw_F",
        "colab_type": "code",
        "colab": {}
      },
      "source": [
        ""
      ],
      "execution_count": null,
      "outputs": []
    }
  ]
}